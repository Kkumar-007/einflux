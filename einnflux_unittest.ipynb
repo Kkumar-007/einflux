{
  "nbformat": 4,
  "nbformat_minor": 0,
  "metadata": {
    "colab": {
      "provenance": [],
      "authorship_tag": "ABX9TyPtCw19VH7PthAHaAmcdVBE",
      "include_colab_link": true
    },
    "kernelspec": {
      "name": "python3",
      "display_name": "Python 3"
    },
    "language_info": {
      "name": "python"
    }
  },
  "cells": [
    {
      "cell_type": "markdown",
      "metadata": {
        "id": "view-in-github",
        "colab_type": "text"
      },
      "source": [
        "<a href=\"https://colab.research.google.com/github/Kkumar-007/einflux/blob/main/einnflux_unittest.ipynb\" target=\"_parent\"><img src=\"https://colab.research.google.com/assets/colab-badge.svg\" alt=\"Open In Colab\"/></a>"
      ]
    },
    {
      "cell_type": "markdown",
      "source": [
        "# **Unit Testing Einflux**\n",
        "\n",
        "This notebook contains the implementation and unit tests for the `einflux` module using `pytest`.\n"
      ],
      "metadata": {
        "id": "GX0eYG0ZJRZ8"
      }
    },
    {
      "cell_type": "markdown",
      "source": [
        "## Import necessary libraries"
      ],
      "metadata": {
        "id": "fRKrzoYebAta"
      }
    },
    {
      "cell_type": "code",
      "source": [
        "import numpy as np\n",
        "import unittest\n",
        "from einflux import rearrange, parse_pattern, expand_dims, get_permutation, reshape_for_output, RearrangeError"
      ],
      "metadata": {
        "id": "frwX11tXIeug"
      },
      "execution_count": 98,
      "outputs": []
    },
    {
      "cell_type": "markdown",
      "source": [
        "## Custom TestResult class for better output formatting"
      ],
      "metadata": {
        "id": "BOl6zygmYH8v"
      }
    },
    {
      "cell_type": "code",
      "source": [
        "class ColobTestResult(unittest.TextTestResult):\n",
        "    def __init__(self, stream, descriptions, verbosity):\n",
        "        super(ColobTestResult, self).__init__(stream, descriptions, verbosity)\n",
        "        self.successes = []\n",
        "\n",
        "    def addSuccess(self, test):\n",
        "        super(ColobTestResult, self).addSuccess(test)\n",
        "        self.successes.append(test)"
      ],
      "metadata": {
        "id": "CZ0tyt_jXfBs"
      },
      "execution_count": 99,
      "outputs": []
    },
    {
      "cell_type": "markdown",
      "source": [
        "## Custom TestRunner class"
      ],
      "metadata": {
        "id": "-R4PUyBobOLj"
      }
    },
    {
      "cell_type": "code",
      "source": [
        "class ColabTestRunner(unittest.TextTestRunner):\n",
        "    def __init__(self, verbosity=2, **kwargs):\n",
        "        super(ColabTestRunner, self).__init__(verbosity=verbosity, resultclass=ColobTestResult, **kwargs)\n",
        "\n",
        "    def run(self, test):\n",
        "        result = super(ColabTestRunner, self).run(test)\n",
        "        return result"
      ],
      "metadata": {
        "id": "4nlvitsZXn7m"
      },
      "execution_count": 100,
      "outputs": []
    },
    {
      "cell_type": "markdown",
      "source": [
        "## Function to run specific test cases with pretty output"
      ],
      "metadata": {
        "id": "tKzLOGovbTgf"
      }
    },
    {
      "cell_type": "code",
      "source": [
        "def run_test_case(test_case_instance, test_method_name):\n",
        "    \"\"\"\n",
        "    Run a specific test method with formatted output\n",
        "\n",
        "    Args:\n",
        "        test_case_instance: The TestCase class instance\n",
        "        test_method_name: Name of the test method to run\n",
        "\n",
        "    Returns:\n",
        "        Test result object\n",
        "    \"\"\"\n",
        "    print(f\"Running: {test_method_name}\")\n",
        "    print(\"-\" * 80)\n",
        "    test_case = test_case_instance(test_method_name)\n",
        "    runner = ColabTestRunner(verbosity=2)\n",
        "    result = runner.run(test_case)\n",
        "    print(\"-\" * 80)\n",
        "    return result"
      ],
      "metadata": {
        "id": "yWExUlO6XqE2"
      },
      "execution_count": 101,
      "outputs": []
    },
    {
      "cell_type": "markdown",
      "source": [
        "## Function to run all tests in a test case"
      ],
      "metadata": {
        "id": "QqxXejv-bYTf"
      }
    },
    {
      "cell_type": "code",
      "source": [
        "def run_test_suite(test_case_class, title=None):\n",
        "    \"\"\"\n",
        "    Run all tests in a test case class with formatted output\n",
        "\n",
        "    Args:\n",
        "        test_case_class: The TestCase class\n",
        "        title: Optional title for the test suite\n",
        "\n",
        "    Returns:\n",
        "        Test result object\n",
        "    \"\"\"\n",
        "    if title:\n",
        "        print(f\"\\n{title}\")\n",
        "        print(\"=\" * 80)\n",
        "\n",
        "    suite = unittest.TestLoader().loadTestsFromTestCase(test_case_class)\n",
        "    runner = ColabTestRunner(verbosity=2)\n",
        "    result = runner.run(suite)\n",
        "    print(\"-\" * 80)\n",
        "    return result"
      ],
      "metadata": {
        "id": "jFRHSPtyXsU3"
      },
      "execution_count": 102,
      "outputs": []
    },
    {
      "cell_type": "markdown",
      "source": [
        "## TestParsePattern class"
      ],
      "metadata": {
        "id": "OAG0vlNNbdHO"
      }
    },
    {
      "cell_type": "code",
      "source": [
        "class TestParsePattern(unittest.TestCase):\n",
        "    \"\"\"Tests for the parse_pattern function\"\"\"\n",
        "\n",
        "    def test_basic_pattern(self):\n",
        "        \"\"\"Test parsing of basic patterns\"\"\"\n",
        "        self.assertEqual(parse_pattern(\"a b c\"), [\"a\", \"b\", \"c\"])\n",
        "        self.assertEqual(parse_pattern(\"a\"), [\"a\"])\n",
        "        self.assertEqual(parse_pattern(\"a b\"), [\"a\", \"b\"])\n",
        "\n",
        "    def test_tuple_pattern(self):\n",
        "        \"\"\"Test parsing of patterns with tuples\"\"\"\n",
        "        self.assertEqual(parse_pattern(\"(a b) c\"), [(\"a\", \"b\"), \"c\"])\n",
        "        self.assertEqual(parse_pattern(\"a (b c)\"), [\"a\", (\"b\", \"c\")])\n",
        "        self.assertEqual(parse_pattern(\"(a b) (c d)\"), [(\"a\", \"b\"), (\"c\", \"d\")])\n",
        "\n",
        "    def test_mixed_pattern(self):\n",
        "        \"\"\"Test parsing of mixed patterns with tuples and digits\"\"\"\n",
        "        self.assertEqual(parse_pattern(\"a (b 2)\"), [\"a\", (\"b\", \"2\")])\n",
        "        self.assertEqual(parse_pattern(\"(a 3) b\"), [(\"a\", \"3\"), \"b\"])\n",
        "\n",
        "    def test_wildcard_pattern(self):\n",
        "        \"\"\"Test parsing of patterns with wildcards\"\"\"\n",
        "        self.assertEqual(parse_pattern(\"a * b\"), [\"a\", \"*\", \"b\"])\n",
        "        self.assertEqual(parse_pattern(\"a ... b\"), [\"a\", \"...\", \"b\"])\n",
        "\n",
        "    def test_complex_pattern(self):\n",
        "        \"\"\"Test parsing of complex patterns\"\"\"\n",
        "        self.assertEqual(parse_pattern(\"(a b) * (c d)\"), [(\"a\", \"b\"), \"*\", (\"c\", \"d\")])\n",
        "        self.assertEqual(parse_pattern(\"a (b 2) ... (c 3)\"), [\"a\", (\"b\", \"2\"), \"...\", (\"c\", \"3\")])\n"
      ],
      "metadata": {
        "id": "P5_xnElVA-JN"
      },
      "execution_count": 103,
      "outputs": []
    },
    {
      "cell_type": "markdown",
      "source": [
        "## TestExpandDims class"
      ],
      "metadata": {
        "id": "RXfNdD7UbhQj"
      }
    },
    {
      "cell_type": "code",
      "source": [
        "class TestExpandDims(unittest.TestCase):\n",
        "    \"\"\"Tests for the expand_dims function\"\"\"\n",
        "\n",
        "    def test_basic_expand(self):\n",
        "        \"\"\"Test basic dimension expansion\"\"\"\n",
        "        shape = [2, 3, 4]\n",
        "        structure = [\"a\", \"b\", \"c\"]\n",
        "        shape_dict = {}\n",
        "        result = expand_dims(shape, structure, shape_dict)\n",
        "\n",
        "        self.assertEqual(result, [2, 3, 4])\n",
        "        self.assertEqual(shape_dict, {\"a\": 2, \"b\": 3, \"c\": 4})\n",
        "\n",
        "    def test_tuple_expand_split(self):\n",
        "        \"\"\"Test tuple expansion when splitting dimensions\"\"\"\n",
        "        shape = [6, 4]\n",
        "        structure = [(\"a\", \"b\"), \"c\"]\n",
        "        shape_dict = {\"a\": 2, \"b\": 3}\n",
        "        result = expand_dims(shape, structure, shape_dict, merging=False)\n",
        "\n",
        "        self.assertEqual(result, [2, 3, 4])\n",
        "        self.assertEqual(shape_dict, {\"a\": 2, \"b\": 3, \"c\": 4})\n",
        "\n",
        "    def test_tuple_expand_merge(self):\n",
        "        \"\"\"Test tuple expansion when merging dimensions\"\"\"\n",
        "        shape = [2, 3, 4]\n",
        "        structure = [\"a\", \"b\", \"c\"]\n",
        "        shape_dict = {\"a\": 2, \"b\": 3, \"c\": 4}\n",
        "\n",
        "        result = expand_dims([2, 3], [(\"a\", \"b\")], shape_dict, merging=True)\n",
        "        self.assertEqual(result, [6])\n",
        "\n",
        "    def test_ellipsis_expand(self):\n",
        "        \"\"\"Test ellipsis dimension expansion\"\"\"\n",
        "        shape = [2, 3, 4, 5, 6]\n",
        "        structure = [\"a\", \"...\", \"b\"]\n",
        "        shape_dict = {}\n",
        "        result = expand_dims(shape, structure, shape_dict)\n",
        "\n",
        "        self.assertEqual(result, [2, 3, 4, 5, 6])\n",
        "        self.assertEqual(shape_dict, {\"a\": 2, \"b\": 6, \"...\": [3, 4, 5]})\n",
        "\n",
        "    def test_error_dimensions(self):\n",
        "        \"\"\"Test dimension mismatch error\"\"\"\n",
        "        shape = [2, 3]\n",
        "        structure = [\"a\", \"b\", \"c\"]\n",
        "        shape_dict = {}\n",
        "\n",
        "        with self.assertRaises(RearrangeError):\n",
        "            expand_dims(shape, structure, shape_dict)\n",
        "\n",
        "    def test_error_product_mismatch(self):\n",
        "        \"\"\"Test product mismatch error\"\"\"\n",
        "        shape = [5, 3]\n",
        "        structure = [(\"a\", \"b\"), \"c\"]\n",
        "        shape_dict = {\"a\": 2, \"b\": 3}  # Product is 6, but shape has 5\n",
        "\n",
        "        with self.assertRaises(RearrangeError):\n",
        "            expand_dims(shape, structure, shape_dict, merging=False)"
      ],
      "metadata": {
        "id": "G7-mgPtqXxjQ"
      },
      "execution_count": 104,
      "outputs": []
    },
    {
      "cell_type": "markdown",
      "source": [
        "## TestGetPermutation class"
      ],
      "metadata": {
        "id": "xmhwn3YBbksH"
      }
    },
    {
      "cell_type": "code",
      "source": [
        "class TestGetPermutation(unittest.TestCase):\n",
        "    \"\"\"Tests for the get_permutation function\"\"\"\n",
        "\n",
        "    def test_basic_permutation(self):\n",
        "        \"\"\"Test basic dimension permutation\"\"\"\n",
        "        input_structure = [\"a\", \"b\", \"c\"]\n",
        "        output_structure = [\"c\", \"a\", \"b\"]\n",
        "        shape_dict = {\"a\": 2, \"b\": 3, \"c\": 4}\n",
        "\n",
        "        result = get_permutation(input_structure, output_structure, shape_dict)\n",
        "        self.assertEqual(result, [2, 0, 1])\n",
        "\n",
        "    def test_tuple_permutation(self):\n",
        "        \"\"\"Test permutation with tuples\"\"\"\n",
        "        input_structure = [\"a\", (\"b\", \"c\")]\n",
        "        output_structure = [(\"c\", \"b\"), \"a\"]\n",
        "        shape_dict = {\"a\": 2, \"b\": 3, \"c\": 4}\n",
        "\n",
        "        result = get_permutation(input_structure, output_structure, shape_dict)\n",
        "        self.assertEqual(result, [2, 1, 0])\n",
        "\n",
        "    def test_wildcard_permutation(self):\n",
        "        \"\"\"Test permutation with wildcards\"\"\"\n",
        "        input_structure = [\"a\", \"*\", \"b\"]\n",
        "        output_structure = [\"b\", \"*\", \"a\"]\n",
        "        shape_dict = {\"a\": 2, \"b\": 5, \"*\": [3, 4]}\n",
        "\n",
        "        result = get_permutation(input_structure, output_structure, shape_dict)\n",
        "        self.assertEqual(result, [3, 1, 2, 0])"
      ],
      "metadata": {
        "id": "gL_1eM4naBxZ"
      },
      "execution_count": 105,
      "outputs": []
    },
    {
      "cell_type": "markdown",
      "source": [
        "## TestReshapeForOutput class"
      ],
      "metadata": {
        "id": "CnHMK2f0boOl"
      }
    },
    {
      "cell_type": "code",
      "source": [
        "class TestReshapeForOutput(unittest.TestCase):\n",
        "    \"\"\"Tests for the reshape_for_output function\"\"\"\n",
        "\n",
        "    def test_basic_reshape(self):\n",
        "        \"\"\"Test basic reshaping\"\"\"\n",
        "        x = np.zeros((2, 3, 4))\n",
        "        output_structure = [\"a\", \"b\", \"c\"]\n",
        "        shape_dict = {\"a\": 2, \"b\": 3, \"c\": 4}\n",
        "\n",
        "        result = reshape_for_output(x, output_structure, shape_dict)\n",
        "        self.assertEqual(result, [2, 3, 4])\n",
        "\n",
        "    def test_tuple_reshape(self):\n",
        "        \"\"\"Test reshaping with tuples (merging)\"\"\"\n",
        "        x = np.zeros((2, 3, 4))\n",
        "        output_structure = [\"a\", (\"b\", \"c\")]\n",
        "        shape_dict = {\"a\": 2, \"b\": 3, \"c\": 4}\n",
        "\n",
        "        result = reshape_for_output(x, output_structure, shape_dict)\n",
        "        self.assertEqual(result, [2, 12])\n",
        "\n",
        "    def test_numeric_reshape(self):\n",
        "        \"\"\"Test reshaping with numeric values\"\"\"\n",
        "        x = np.zeros((2, 3, 4))\n",
        "        output_structure = [\"a\", (\"2\", \"b\")]\n",
        "        shape_dict = {\"a\": 2, \"b\": 3}\n",
        "\n",
        "        result = reshape_for_output(x, output_structure, shape_dict)\n",
        "        self.assertEqual(result, [2, 6])\n",
        "\n",
        "    def test_wildcard_reshape(self):\n",
        "        \"\"\"Test reshaping with wildcards\"\"\"\n",
        "        x = np.zeros((2, 3, 4, 5))\n",
        "        output_structure = [\"a\", \"*\", \"b\"]\n",
        "        shape_dict = {\"a\": 2, \"b\": 5, \"*\": [3, 4]}\n",
        "\n",
        "        result = reshape_for_output(x, output_structure, shape_dict)\n",
        "        self.assertEqual(result, [2, 3, 4, 5])\n",
        "\n",
        "    def test_infer_dimension(self):\n",
        "        \"\"\"Test inferring a missing dimension\"\"\"\n",
        "        x = np.zeros((2, 3, 4))  # 24 elements\n",
        "        output_structure = [\"a\", \"d\"]\n",
        "        shape_dict = {\"a\": 2}\n",
        "\n",
        "        result = reshape_for_output(x, output_structure, shape_dict)\n",
        "        self.assertEqual(result, [2, 12])\n",
        "\n",
        "    def test_error_multiple_unknown(self):\n",
        "        \"\"\"Test error with multiple unknown dimensions\"\"\"\n",
        "        x = np.zeros((2, 3, 4))\n",
        "        output_structure = [\"d\", \"e\"]  # Both unknown\n",
        "        shape_dict = {}\n",
        "\n",
        "        with self.assertRaises(RearrangeError):\n",
        "            reshape_for_output(x, output_structure, shape_dict)"
      ],
      "metadata": {
        "id": "9RVm7jCgaJ_D"
      },
      "execution_count": 106,
      "outputs": []
    },
    {
      "cell_type": "markdown",
      "source": [
        "## TestRearrange class"
      ],
      "metadata": {
        "id": "euv0Y27jbtGc"
      }
    },
    {
      "cell_type": "code",
      "source": [
        "class TestRearrange(unittest.TestCase):\n",
        "    \"\"\"Tests for the main rearrange function\"\"\"\n",
        "\n",
        "    def test_basic_transpose(self):\n",
        "        \"\"\"Test basic dimension transposition\"\"\"\n",
        "        x = np.zeros((2, 3, 4))\n",
        "        result = rearrange(x, \"a b c -> c a b\")\n",
        "\n",
        "        self.assertEqual(result.shape, (4, 2, 3))\n",
        "\n",
        "    def test_merge_dimensions(self):\n",
        "        \"\"\"Test merging dimensions\"\"\"\n",
        "        x = np.zeros((2, 3, 4))\n",
        "        result = rearrange(x, \"a b c -> a (b c)\")\n",
        "\n",
        "        self.assertEqual(result.shape, (2, 12))\n",
        "\n",
        "    def test_combine_operations(self):\n",
        "        \"\"\"Test combining split, merge and transpose\"\"\"\n",
        "        x = np.zeros((6, 8))\n",
        "        result = rearrange(x, \"(a b) (c d) -> c (b d) a\", a=2, b=3, c=4, d=2)\n",
        "\n",
        "        self.assertEqual(result.shape, (4, 6, 2))\n",
        "\n",
        "    def test_wildcard_dimensions(self):\n",
        "        \"\"\"Test using wildcard dimensions\"\"\"\n",
        "        x = np.zeros((2, 3, 4, 5))\n",
        "        result = rearrange(x, \"a * b -> b * a\")\n",
        "\n",
        "        self.assertEqual(result.shape, (5, 3, 4, 2))\n",
        "\n",
        "    def test_ellipsis_dimensions(self):\n",
        "        \"\"\"Test using ellipsis dimensions\"\"\"\n",
        "        x = np.zeros((2, 3, 4, 5, 6))\n",
        "        result = rearrange(x, \"a ... b -> b ... a\")\n",
        "\n",
        "        self.assertEqual(result.shape, (6, 3, 4, 5, 2))\n",
        "\n",
        "    def test_numeric_dimensions(self):\n",
        "        \"\"\"Test using numeric dimensions\"\"\"\n",
        "        x = np.zeros((6, 4))\n",
        "        result = rearrange(x, \"(a 2) b -> 2 (a b)\", a=3)\n",
        "\n",
        "        self.assertEqual(result.shape, (2, 12))\n",
        "\n",
        "    def test_non_numpy_error(self):\n",
        "        \"\"\"Test error with non-numpy input\"\"\"\n",
        "        x = [1, 2, 3]\n",
        "\n",
        "        with self.assertRaises(TypeError):\n",
        "            rearrange(x, \"a -> a\")\n",
        "\n",
        "    def test_pattern_format_error(self):\n",
        "        \"\"\"Test error with invalid pattern format\"\"\"\n",
        "        x = np.zeros((2, 3))\n",
        "\n",
        "        with self.assertRaises(RearrangeError):\n",
        "            rearrange(x, \"a b\")  # Missing arrow\n",
        "\n",
        "    def test_unused_args_error(self):\n",
        "        \"\"\"Test error with unused shape dict arguments\"\"\"\n",
        "        x = np.zeros((2, 3))\n",
        "\n",
        "        with self.assertRaises(RearrangeError):\n",
        "            rearrange(x, \"a b -> b a\", c=4)  # c is unused\n",
        "\n",
        "    def test_dimension_mismatch_error(self):\n",
        "        \"\"\"Test error with dimension count mismatch\"\"\"\n",
        "        x = np.zeros((2, 3))\n",
        "\n",
        "        with self.assertRaises(RearrangeError):\n",
        "            rearrange(x, \"a b c -> a b c\")  # Input has only 2 dims\n",
        "\n",
        "    def test_product_mismatch_error(self):\n",
        "        \"\"\"Test error with product mismatch\"\"\"\n",
        "        x = np.zeros((5, 3))\n",
        "\n",
        "        with self.assertRaises(RearrangeError):\n",
        "            rearrange(x, \"(a b) c -> (a c) b\", a=2, b=3)  # 2*3 = 6 != 5\n",
        "\n",
        "    def test_real_world_examples(self):\n",
        "        \"\"\"Test some real-world examples\"\"\"\n",
        "        # Convert batch-channel-height-width to batch-height-width-channel (BCHW -> BHWC)\n",
        "        x = np.zeros((32, 3, 128, 128))\n",
        "        result = rearrange(x, \"b c h w -> b h w c\")\n",
        "        self.assertEqual(result.shape, (32, 128, 128, 3))\n",
        "\n",
        "        # Matrix multiplication via einsum-like notation\n",
        "        x = np.random.rand(10, 5)\n",
        "        y = np.random.rand(5, 7)\n",
        "        result = rearrange(np.einsum('ij,jk->ik', x, y), \"i j -> i j\")\n",
        "        self.assertEqual(result.shape, (10, 7))\n",
        "\n",
        "    def test_performance_large_array(self):\n",
        "        \"\"\"Test performance with a large array (not strictly a unit test)\"\"\"\n",
        "        x = np.zeros((32, 64, 64, 3))  # Typical image batch\n",
        "        result = rearrange(x, \"b h w c -> b c h w\")\n",
        "        self.assertEqual(result.shape, (32, 3, 64, 64))\n"
      ],
      "metadata": {
        "id": "jCO6vXPFaNXz"
      },
      "execution_count": null,
      "outputs": []
    },
    {
      "cell_type": "markdown",
      "source": [
        "## Example usage - Run a specific test"
      ],
      "metadata": {
        "id": "v6YoYnQgbxaJ"
      }
    },
    {
      "cell_type": "code",
      "source": [
        "print(\"Running a single test case:\")\n",
        "run_test_case(TestParsePattern, 'test_basic_pattern')"
      ],
      "metadata": {
        "colab": {
          "base_uri": "https://localhost:8080/"
        },
        "id": "xovilYOSMIHG",
        "outputId": "e901e931-592a-45a1-d0a8-c93c66d4cb54"
      },
      "execution_count": 107,
      "outputs": [
        {
          "output_type": "stream",
          "name": "stderr",
          "text": [
            "test_basic_pattern (__main__.TestParsePattern.test_basic_pattern)\n",
            "Test parsing of basic patterns ... ok\n",
            "\n",
            "----------------------------------------------------------------------\n",
            "Ran 1 test in 0.002s\n",
            "\n",
            "OK\n"
          ]
        },
        {
          "output_type": "stream",
          "name": "stdout",
          "text": [
            "Running a single test case:\n",
            "Running: test_basic_pattern\n",
            "--------------------------------------------------------------------------------\n",
            "--------------------------------------------------------------------------------\n"
          ]
        },
        {
          "output_type": "execute_result",
          "data": {
            "text/plain": [
              "<__main__.ColobTestResult run=1 errors=0 failures=0>"
            ]
          },
          "metadata": {},
          "execution_count": 107
        }
      ]
    },
    {
      "cell_type": "markdown",
      "source": [
        "## Example usage - Run all tests in a class"
      ],
      "metadata": {
        "id": "11lu_zbob0HF"
      }
    },
    {
      "cell_type": "code",
      "source": [
        "print(\"\\nRunning a full test suite:\")\n",
        "run_test_suite(TestParsePattern, \"Parse Pattern Tests\")"
      ],
      "metadata": {
        "colab": {
          "base_uri": "https://localhost:8080/"
        },
        "id": "3afZVQopSHpU",
        "outputId": "66f0e4bc-42d2-44ce-f7fb-ecefa1de45ff"
      },
      "execution_count": 108,
      "outputs": [
        {
          "output_type": "stream",
          "name": "stderr",
          "text": [
            "test_basic_pattern (__main__.TestParsePattern.test_basic_pattern)\n",
            "Test parsing of basic patterns ... ok\n",
            "test_complex_pattern (__main__.TestParsePattern.test_complex_pattern)\n",
            "Test parsing of complex patterns ... ok\n",
            "test_mixed_pattern (__main__.TestParsePattern.test_mixed_pattern)\n",
            "Test parsing of mixed patterns with tuples and digits ... ok\n",
            "test_tuple_pattern (__main__.TestParsePattern.test_tuple_pattern)\n",
            "Test parsing of patterns with tuples ... ok\n",
            "test_wildcard_pattern (__main__.TestParsePattern.test_wildcard_pattern)\n",
            "Test parsing of patterns with wildcards ... ok\n",
            "\n",
            "----------------------------------------------------------------------\n",
            "Ran 5 tests in 0.020s\n",
            "\n",
            "OK\n"
          ]
        },
        {
          "output_type": "stream",
          "name": "stdout",
          "text": [
            "\n",
            "Running a full test suite:\n",
            "\n",
            "Parse Pattern Tests\n",
            "================================================================================\n",
            "--------------------------------------------------------------------------------\n"
          ]
        },
        {
          "output_type": "execute_result",
          "data": {
            "text/plain": [
              "<__main__.ColobTestResult run=5 errors=0 failures=0>"
            ]
          },
          "metadata": {},
          "execution_count": 108
        }
      ]
    },
    {
      "cell_type": "markdown",
      "source": [
        "## Example usage - Running selected tests"
      ],
      "metadata": {
        "id": "T6IrcI_-b3eO"
      }
    },
    {
      "cell_type": "code",
      "source": [
        "def run_selected_tests(test_class, test_methods):\n",
        "    \"\"\"\n",
        "    Run selected test methods from a test class\n",
        "\n",
        "    Args:\n",
        "        test_class: The TestCase class\n",
        "        test_methods: List of test method names to run\n",
        "    \"\"\"\n",
        "    print(f\"\\nRunning selected tests from {test_class.__name__}:\")\n",
        "    print(\"=\" * 80)\n",
        "\n",
        "    for method in test_methods:\n",
        "        run_test_case(test_class, method)"
      ],
      "metadata": {
        "id": "fIZGRT2TSHl7"
      },
      "execution_count": 109,
      "outputs": []
    },
    {
      "cell_type": "markdown",
      "source": [
        "## Example usage of run_selected_tests"
      ],
      "metadata": {
        "id": "ZXUL-itGb6ZJ"
      }
    },
    {
      "cell_type": "code",
      "source": [
        "run_selected_tests(TestParsePattern, [\n",
        "    'test_tuple_pattern',\n",
        "    'test_wildcard_pattern'\n",
        "])"
      ],
      "metadata": {
        "colab": {
          "base_uri": "https://localhost:8080/"
        },
        "id": "58XE4ilCSHjt",
        "outputId": "628cd161-955d-41bd-ddc4-d28362a81ea1"
      },
      "execution_count": 110,
      "outputs": [
        {
          "output_type": "stream",
          "name": "stderr",
          "text": [
            "test_tuple_pattern (__main__.TestParsePattern.test_tuple_pattern)\n",
            "Test parsing of patterns with tuples ... ok\n",
            "\n",
            "----------------------------------------------------------------------\n",
            "Ran 1 test in 0.003s\n",
            "\n",
            "OK\n",
            "test_wildcard_pattern (__main__.TestParsePattern.test_wildcard_pattern)\n",
            "Test parsing of patterns with wildcards ... ok\n",
            "\n",
            "----------------------------------------------------------------------\n",
            "Ran 1 test in 0.002s\n",
            "\n",
            "OK\n"
          ]
        },
        {
          "output_type": "stream",
          "name": "stdout",
          "text": [
            "\n",
            "Running selected tests from TestParsePattern:\n",
            "================================================================================\n",
            "Running: test_tuple_pattern\n",
            "--------------------------------------------------------------------------------\n",
            "--------------------------------------------------------------------------------\n",
            "Running: test_wildcard_pattern\n",
            "--------------------------------------------------------------------------------\n",
            "--------------------------------------------------------------------------------\n"
          ]
        }
      ]
    },
    {
      "cell_type": "markdown",
      "source": [
        "## Run all tests in the project with summary"
      ],
      "metadata": {
        "id": "NbhExZvlb83V"
      }
    },
    {
      "cell_type": "code",
      "source": [
        "def run_all_test_suites():\n",
        "    \"\"\"Run all test suites and display a summary\"\"\"\n",
        "    print(\"\\nRUNNING ALL TEST SUITES\")\n",
        "    print(\"=\" * 80)\n",
        "\n",
        "    test_classes = [\n",
        "        (TestParsePattern, \"Parse Pattern Tests\"),\n",
        "        # Add other test classes here\n",
        "    ]\n",
        "\n",
        "    total_tests = 0\n",
        "    total_failures = 0\n",
        "    total_errors = 0\n",
        "\n",
        "    for test_class, title in test_classes:\n",
        "        result = run_test_suite(test_class, title)\n",
        "        total_tests += result.testsRun\n",
        "        total_failures += len(result.failures)\n",
        "        total_errors += len(result.errors)\n",
        "\n",
        "    print(\"\\nTEST SUMMARY\")\n",
        "    print(\"=\" * 80)\n",
        "    print(f\"Total tests run: {total_tests}\")\n",
        "    print(f\"Failures: {total_failures}\")\n",
        "    print(f\"Errors: {total_errors}\")\n",
        "\n",
        "    if total_failures == 0 and total_errors == 0:\n",
        "        print(\"\\n✅ ALL TESTS PASSED\")\n",
        "    else:\n",
        "        print(\"\\n❌ SOME TESTS FAILED\")\n"
      ],
      "metadata": {
        "id": "2A19Yv0bSHhM"
      },
      "execution_count": 111,
      "outputs": []
    },
    {
      "cell_type": "markdown",
      "source": [
        "## Example usage with main() function"
      ],
      "metadata": {
        "id": "6-zyvgyccAwB"
      }
    },
    {
      "cell_type": "code",
      "source": [
        "if __name__ == '__main__':\n",
        "    # Option 1: Run all tests using unittest.main()\n",
        "    unittest.main(argv=['first-arg-is-ignored'], exit=False, verbosity=2)\n",
        "\n",
        "    # Option 2: Run specific test suites\n",
        "    # run_test_suite(TestParsePattern, \"Parse Pattern Tests\")\n",
        "\n",
        "    # Option 3: Run all test suites with summary\n",
        "    # run_all_test_suites()"
      ],
      "metadata": {
        "colab": {
          "base_uri": "https://localhost:8080/"
        },
        "id": "6VtbRty0SHeU",
        "outputId": "d674e36a-af50-453c-d3cc-d595054cbdbe"
      },
      "execution_count": 114,
      "outputs": [
        {
          "output_type": "stream",
          "name": "stderr",
          "text": [
            "test_basic_expand (__main__.TestExpandDims.test_basic_expand)\n",
            "Test basic dimension expansion ... ok\n",
            "test_ellipsis_expand (__main__.TestExpandDims.test_ellipsis_expand)\n",
            "Test ellipsis dimension expansion ... ok\n",
            "test_error_dimensions (__main__.TestExpandDims.test_error_dimensions)\n",
            "Test dimension mismatch error ... ok\n",
            "test_error_product_mismatch (__main__.TestExpandDims.test_error_product_mismatch)\n",
            "Test product mismatch error ... ok\n",
            "test_tuple_expand_merge (__main__.TestExpandDims.test_tuple_expand_merge)\n",
            "Test tuple expansion when merging dimensions ... ok\n",
            "test_tuple_expand_split (__main__.TestExpandDims.test_tuple_expand_split)\n",
            "Test tuple expansion when splitting dimensions ... ok\n",
            "test_basic_permutation (__main__.TestGetPermutation.test_basic_permutation)\n",
            "Test basic dimension permutation ... ok\n",
            "test_tuple_permutation (__main__.TestGetPermutation.test_tuple_permutation)\n",
            "Test permutation with tuples ... ok\n",
            "test_wildcard_permutation (__main__.TestGetPermutation.test_wildcard_permutation)\n",
            "Test permutation with wildcards ... ok\n",
            "test_basic_pattern (__main__.TestParsePattern.test_basic_pattern)\n",
            "Test parsing of basic patterns ... ok\n",
            "test_complex_pattern (__main__.TestParsePattern.test_complex_pattern)\n",
            "Test parsing of complex patterns ... ok\n",
            "test_mixed_pattern (__main__.TestParsePattern.test_mixed_pattern)\n",
            "Test parsing of mixed patterns with tuples and digits ... ok\n",
            "test_tuple_pattern (__main__.TestParsePattern.test_tuple_pattern)\n",
            "Test parsing of patterns with tuples ... ok\n",
            "test_wildcard_pattern (__main__.TestParsePattern.test_wildcard_pattern)\n",
            "Test parsing of patterns with wildcards ... ok\n",
            "test_basic_transpose (__main__.TestRearrange.test_basic_transpose)\n",
            "Test basic dimension transposition ... ok\n",
            "test_combine_operations (__main__.TestRearrange.test_combine_operations)\n",
            "Test combining split, merge and transpose ... ok\n",
            "test_dimension_mismatch_error (__main__.TestRearrange.test_dimension_mismatch_error)\n",
            "Test error with dimension count mismatch ... ok\n",
            "test_ellipsis_dimensions (__main__.TestRearrange.test_ellipsis_dimensions)\n",
            "Test using ellipsis dimensions ... ok\n",
            "test_merge_dimensions (__main__.TestRearrange.test_merge_dimensions)\n",
            "Test merging dimensions ... ok\n",
            "test_non_numpy_error (__main__.TestRearrange.test_non_numpy_error)\n",
            "Test error with non-numpy input ... ok\n",
            "test_numeric_dimensions (__main__.TestRearrange.test_numeric_dimensions)\n",
            "Test using numeric dimensions ... ok\n",
            "test_pattern_format_error (__main__.TestRearrange.test_pattern_format_error)\n",
            "Test error with invalid pattern format ... ok\n",
            "test_performance_large_array (__main__.TestRearrange.test_performance_large_array)\n",
            "Test performance with a large array (not strictly a unit test) ... ok\n",
            "test_product_mismatch_error (__main__.TestRearrange.test_product_mismatch_error)\n",
            "Test error with product mismatch ... ok\n",
            "test_real_world_examples (__main__.TestRearrange.test_real_world_examples)\n",
            "Test some real-world examples ... ok\n",
            "test_unused_args_error (__main__.TestRearrange.test_unused_args_error)\n",
            "Test error with unused shape dict arguments ... ok\n",
            "test_wildcard_dimensions (__main__.TestRearrange.test_wildcard_dimensions)\n",
            "Test using wildcard dimensions ... ok\n",
            "test_basic_reshape (__main__.TestReshapeForOutput.test_basic_reshape)\n",
            "Test basic reshaping ... ok\n",
            "test_error_multiple_unknown (__main__.TestReshapeForOutput.test_error_multiple_unknown)\n",
            "Test error with multiple unknown dimensions ... ok\n",
            "test_infer_dimension (__main__.TestReshapeForOutput.test_infer_dimension)\n",
            "Test inferring a missing dimension ... ok\n",
            "test_numeric_reshape (__main__.TestReshapeForOutput.test_numeric_reshape)\n",
            "Test reshaping with numeric values ... ok\n",
            "test_tuple_reshape (__main__.TestReshapeForOutput.test_tuple_reshape)\n",
            "Test reshaping with tuples (merging) ... ok\n",
            "test_wildcard_reshape (__main__.TestReshapeForOutput.test_wildcard_reshape)\n",
            "Test reshaping with wildcards ... ok\n",
            "\n",
            "----------------------------------------------------------------------\n",
            "Ran 33 tests in 0.090s\n",
            "\n",
            "OK\n"
          ]
        }
      ]
    }
  ]
}